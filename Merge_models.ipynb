{
  "nbformat": 4,
  "nbformat_minor": 0,
  "metadata": {
    "colab": {
      "provenance": [],
      "mount_file_id": "1KpO5q1Rr1rrsWbCGI92QSedb-OEcsT0N",
      "authorship_tag": "ABX9TyObBrKBCd8HL81sRANnEQ1j",
      "include_colab_link": true
    },
    "kernelspec": {
      "name": "python3",
      "display_name": "Python 3"
    },
    "language_info": {
      "name": "python"
    }
  },
  "cells": [
    {
      "cell_type": "markdown",
      "metadata": {
        "id": "view-in-github",
        "colab_type": "text"
      },
      "source": [
        "<a href=\"https://colab.research.google.com/github/LamKser/FPT-ResFes-KamenRider/blob/main/Merge_models.ipynb\" target=\"_parent\"><img src=\"https://colab.research.google.com/assets/colab-badge.svg\" alt=\"Open In Colab\"/></a>"
      ]
    },
    {
      "cell_type": "code",
      "execution_count": null,
      "metadata": {
        "id": "37S-7WLwqUmk"
      },
      "outputs": [],
      "source": [
        "%cd /content/drive/MyDrive"
      ]
    },
    {
      "cell_type": "code",
      "source": [
        "!sudo apt-get install tesseract-ocr\n",
        "!pip install pytesseract==0.3.9\n",
        "!sudo apt-get install tesseract-ocr-eng"
      ],
      "metadata": {
        "id": "wReZVpBVrMeC"
      },
      "execution_count": null,
      "outputs": []
    },
    {
      "cell_type": "code",
      "source": [
        "!pip install -r /content/drive/MyDrive/YOLOv7_train/yolov7/requirements.txt"
      ],
      "metadata": {
        "id": "cUFzmYbTsfFR"
      },
      "execution_count": null,
      "outputs": []
    },
    {
      "cell_type": "code",
      "source": [
        "%cd /content/drive/MyDrive/YOLOv7_train/yolov7/pretrain\n",
        "!wget https://github.com/WongKinYiu/yolov7/releases/download/v0.1/yolov7.pt"
      ],
      "metadata": {
        "id": "EG2AmBRX_ayK"
      },
      "execution_count": null,
      "outputs": []
    },
    {
      "cell_type": "code",
      "source": [
        "# clone souce code YOLOv7 ve YOLOv7_train\n",
        "%cd /content/drive/MyDrive/YOLOv7_train\n",
        "!git clone https://github.com/WongKinYiu/yolov7.git"
      ],
      "metadata": {
        "id": "8mEEDxUh_esY"
      },
      "execution_count": null,
      "outputs": []
    },
    {
      "cell_type": "markdown",
      "source": [
        "# Setting requirements\n"
      ],
      "metadata": {
        "id": "mIwQggleqxRJ"
      }
    },
    {
      "cell_type": "code",
      "source": [
        "%cd /content/drive/MyDrive/YOLOv7_train/yolov7\n",
        "import argparse\n",
        "import time\n",
        "from pathlib import Path\n",
        "import cv2\n",
        "import torch\n",
        "import numpy as np\n",
        "import torch.backends.cudnn as cudnn\n",
        "from numpy import random\n",
        "\n",
        "from models.experimental import attempt_load\n",
        "from utils.datasets import LoadStreams, LoadImages\n",
        "from utils.general import check_img_size, check_requirements, check_imshow, non_max_suppression, apply_classifier, \\\n",
        "    scale_coords, xyxy2xywh, strip_optimizer, set_logging, increment_path\n",
        "from utils.plots import plot_one_box\n",
        "from utils.torch_utils import select_device, load_classifier, time_synchronized, TracedModel\n",
        "\n",
        "def letterbox(img, new_shape=(640, 640), color=(114, 114, 114), auto=True, scaleFill=False, scaleup=True, stride=32):\n",
        "    # Resize and pad image while meeting stride-multiple constraints\n",
        "    shape = img.shape[:2]  # current shape [height, width]\n",
        "    if isinstance(new_shape, int):\n",
        "        new_shape = (new_shape, new_shape)\n",
        "\n",
        "    # Scale ratio (new / old)\n",
        "    r = min(new_shape[0] / shape[0], new_shape[1] / shape[1])\n",
        "    if not scaleup:  # only scale down, do not scale up (for better test mAP)\n",
        "        r = min(r, 1.0)\n",
        "\n",
        "    # Compute padding\n",
        "    ratio = r, r  # width, height ratios\n",
        "    new_unpad = int(round(shape[1] * r)), int(round(shape[0] * r))\n",
        "    dw, dh = new_shape[1] - new_unpad[0], new_shape[0] - new_unpad[1]  # wh padding\n",
        "    if auto:  # minimum rectangle\n",
        "        dw, dh = np.mod(dw, stride), np.mod(dh, stride)  # wh padding\n",
        "    elif scaleFill:  # stretch\n",
        "        dw, dh = 0.0, 0.0\n",
        "        new_unpad = (new_shape[1], new_shape[0])\n",
        "        ratio = new_shape[1] / shape[1], new_shape[0] / shape[0]  # width, height ratios\n",
        "\n",
        "    dw /= 2  # divide padding into 2 sides\n",
        "    dh /= 2\n",
        "\n",
        "    if shape[::-1] != new_unpad:  # resize\n",
        "        img = cv2.resize(img, new_unpad, interpolation=cv2.INTER_LINEAR)\n",
        "    top, bottom = int(round(dh - 0.1)), int(round(dh + 0.1))\n",
        "    left, right = int(round(dw - 0.1)), int(round(dw + 0.1))\n",
        "    img = cv2.copyMakeBorder(img, top, bottom, left, right, cv2.BORDER_CONSTANT, value=color)  # add border\n",
        "    return img, ratio, (dw, dh)"
      ],
      "metadata": {
        "colab": {
          "base_uri": "https://localhost:8080/"
        },
        "id": "ALByvssErCGK",
        "outputId": "2107a963-727a-43da-842f-0ffdda81dbfd"
      },
      "execution_count": 5,
      "outputs": [
        {
          "output_type": "stream",
          "name": "stdout",
          "text": [
            "/content/drive/MyDrive/YOLOv7_train/yolov7\n"
          ]
        }
      ]
    },
    {
      "cell_type": "code",
      "source": [
        "classes_to_filter = ['car', 'motorcycle', 'bus', 'truck']\n",
        "opt  = {\n",
        "    \n",
        "    \"weights\": \"pretrain/yolov7.pt.1\", # Path to weights file default weights are for nano model\n",
        "    \"yaml\"   : \"data/coco.yaml\",\n",
        "    \"img-size\": 640, # default image size\n",
        "    \"conf-thres\": 0.25, # confidence threshold for inference.\n",
        "    \"iou-thres\" : 0.45, # NMS IoU threshold for inference.\n",
        "    \"device\" : '',  # device to run our model i.e. 0 or 0,1,2,3 or cpu\n",
        "    \"classes\" : classes_to_filter  # list of classes to filter or None\n",
        "\n",
        "}\n",
        "\n",
        "classes_to_filter_2 = ['plate']\n",
        "opt_2  = {\n",
        "    \n",
        "    \"weights\": \"/content/drive/MyDrive/YOLOv7_train/save_model_fol/detected.pt\", # Path to weights file default weights are for nano model\n",
        "    \"yaml\"   : \"data/mydataset.yaml\",\n",
        "    \"img-size\": 640, # default image size\n",
        "    \"conf-thres\": 0.25, # confidence threshold for inference.\n",
        "    \"iou-thres\" : 0.45, # NMS IoU threshold for inference.\n",
        "    \"device\" : '',  # device to run our model i.e. 0 or 0,1,2,3 or cpu\n",
        "    \"classes\" : classes_to_filter_2  # list of classes to filter or None\n",
        "\n",
        "}"
      ],
      "metadata": {
        "id": "WfIoo3-orGuq"
      },
      "execution_count": 6,
      "outputs": []
    },
    {
      "cell_type": "code",
      "source": [
        "import cv2\n",
        "import numpy as np\n",
        "import pytesseract\n",
        "from google.colab.patches import cv2_imshow\n",
        "import re"
      ],
      "metadata": {
        "id": "dJd_EBaNrJpa"
      },
      "execution_count": 7,
      "outputs": []
    },
    {
      "cell_type": "code",
      "source": [
        "# Detect on images\n",
        "def detect_image(opt, img_r, model, device):\n",
        "  with torch.no_grad():\n",
        "    weights, imgsz = opt['weights'], opt['img-size']\n",
        "    set_logging()\n",
        "    # device = select_device(opt['device'])\n",
        "    half = device.type != 'cpu'\n",
        "    #model = attempt_load(weights, map_location=device)  # load FP32 model\n",
        "    stride = int(model.stride.max())  # model stride\n",
        "    imgsz = check_img_size(imgsz, s=stride)  # check img_size\n",
        "    if half:\n",
        "      model.half()\n",
        "\n",
        "    names = model.module.names if hasattr(model, 'module') else model.names\n",
        "    random.seed(42)\n",
        "    colors = [[random.randint(0, 255) for _ in range(3)] for _ in names]\n",
        "    if device.type != 'cpu':\n",
        "      model(torch.zeros(1, 3, imgsz, imgsz).to(device).type_as(next(model.parameters())))\n",
        "\n",
        "    img0 = img_r\n",
        "    img = letterbox(img0, imgsz, stride=stride)[0]\n",
        "    img = img[:, :, ::-1].transpose(2, 0, 1)  # BGR to RGB, to 3x416x416\n",
        "    img = np.ascontiguousarray(img)\n",
        "    img = torch.from_numpy(img).to(device)\n",
        "    img = img.half() if half else img.float()  # uint8 to fp16/32\n",
        "    img /= 255.0  # 0 - 255 to 0.0 - 1.0\n",
        "    if img.ndimension() == 3:\n",
        "      img = img.unsqueeze(0)\n",
        "\n",
        "    # Inference\n",
        "    t1 = time_synchronized()\n",
        "    pred = model(img, augment= False)[0]\n",
        "\n",
        "    # Apply NMS\n",
        "    num_classes = None\n",
        "    if opt['classes']:\n",
        "      num_classes = []\n",
        "      for class_name in opt['classes']:\n",
        "\n",
        "        num_classes.append(names.index(class_name))\n",
        "\n",
        "    if num_classes == None:\n",
        "      \n",
        "      num_classes = [i for i in range(len(names)) if i not in num_classes]\n",
        "\n",
        "    \n",
        "    pred = non_max_suppression(pred, opt['conf-thres'], opt['iou-thres'], classes = num_classes, agnostic= True)\n",
        "    t2 = time_synchronized()\n",
        "    for i, det in enumerate(pred):\n",
        "        s = ''\n",
        "        s += '%gx%g ' % img.shape[2:]  # print string\n",
        "        gn = torch.tensor(img0.shape)[[1, 0, 1, 0]]\n",
        "        if len(det):\n",
        "          det[:, :4] = scale_coords(img.shape[2:], det[:, :4], img0.shape).round()\n",
        "\n",
        "          for c in det[:, -1].unique():\n",
        "            n = (det[:, -1] == c).sum()  # detections per class\n",
        "            s += f\"{n} {names[int(c)]}{'s' * (n > 1)}, \"  # add to string\n",
        "        \n",
        "          for *xyxy, conf, cls in reversed(det):\n",
        "\n",
        "            label = f'{names[int(cls)]} {conf:.2f}'\n",
        "            plot_one_box(xyxy, img0, color=colors[int(cls)], line_thickness=2) # , label=label\n",
        "    return img0, det"
      ],
      "metadata": {
        "id": "DTRF3ymgrPWR"
      },
      "execution_count": 13,
      "outputs": []
    },
    {
      "cell_type": "code",
      "source": [
        "# Load models\n",
        "device_selected = select_device('')\n",
        "model_2 = attempt_load(opt_2['weights'], map_location=device_selected)\n",
        "model = attempt_load(opt['weights'], map_location=device_selected)"
      ],
      "metadata": {
        "id": "zeeCyCrNrZ_0"
      },
      "execution_count": null,
      "outputs": []
    },
    {
      "cell_type": "code",
      "source": [
        "# image processing for recognize\n",
        "import cv2\n",
        "import numpy as np\n",
        "\n",
        "# get grayscale image\n",
        "def get_grayscale(image):\n",
        "    return cv2.cvtColor(image, cv2.COLOR_BGR2GRAY)\n",
        "\n",
        "# noise removal\n",
        "def remove_noise(image):\n",
        "    return cv2.medianBlur(image,5)\n",
        " \n",
        "#thresholding\n",
        "def thresholding(image):\n",
        "    return cv2.threshold(image, 0, 255, cv2.THRESH_BINARY + cv2.THRESH_OTSU)[1]\n",
        "\n",
        "#dilation\n",
        "def dilate(image):\n",
        "    kernel = np.ones((5,5),np.uint8)\n",
        "    return cv2.dilate(image, kernel, iterations = 1)\n",
        "    \n",
        "#erosion\n",
        "def erode(image):\n",
        "    kernel = np.ones((5,5),np.uint8)\n",
        "    return cv2.erode(image, kernel, iterations = 1)\n",
        "\n",
        "#opening - erosion followed by dilation\n",
        "def opening(image):\n",
        "    kernel = np.ones((5,5),np.uint8)\n",
        "    return cv2.morphologyEx(image, cv2.MORPH_OPEN, kernel)\n",
        "\n",
        "#canny edge detection\n",
        "def canny(image):\n",
        "    return cv2.Canny(image, 100, 200)\n",
        "\n",
        "#skew correction\n",
        "def deskew(image):\n",
        "    coords = np.column_stack(np.where(image > 0))\n",
        "    angle = cv2.minAreaRect(coords)[-1]\n",
        "    if angle < -45:\n",
        "        angle = -(90 + angle)\n",
        "    else:\n",
        "        angle = -angle\n",
        "    (h, w) = image.shape[:2]\n",
        "    center = (w // 2, h // 2)\n",
        "    M = cv2.getRotationMatrix2D(center, angle, 1.0)\n",
        "    rotated = cv2.warpAffine(image, M, (w, h), flags=cv2.INTER_CUBIC, borderMode=cv2.BORDER_REPLICATE)\n",
        "    return rotated\n",
        "\n",
        "#template matching\n",
        "def match_template(image, template):\n",
        "    return cv2.matchTemplate(image, template, cv2.TM_CCOEFF_NORMED)"
      ],
      "metadata": {
        "id": "cmDfVnzyrluZ"
      },
      "execution_count": 10,
      "outputs": []
    },
    {
      "cell_type": "code",
      "source": [
        "# Recognize image to string\n",
        "def licensePlates_OCR(img):\n",
        "  # img = cv2.imread(img)\n",
        "\n",
        "  gray = get_grayscale(img)\n",
        "  # rmnoise =remove_noise(gray)\n",
        "  thresh = thresholding(gray)\n",
        "  # openin = opening(gray)\n",
        "  # cannyy = canny(thresh)\n",
        "  # ero = erode(thresh)\n",
        "  # dila = dilate(ero)\n",
        "  # match_tem = match_template(thresh)\n",
        "  cv2_imshow(thresh)\n",
        "\n",
        "  # Adding custom options\n",
        "  custom_config = r'--psm 3 -c tessedit_char_whitelist=0123456789ABCDEFGHIJKLMNOPQRSTUVWXYZ'\n",
        "  text = pytesseract.image_to_string(thresh, lang='eng' ,config=custom_config)\n",
        "  x = re.findall(\"([0-9A-Z]*)\", text)\n",
        "  # print(x)\n",
        "  if len(x) >= 1:\n",
        "    if len(x[0]) > 5:\n",
        "      text = x[0]\n",
        "    else:\n",
        "      text = 'cannot recognize license plate'\n",
        "  else:\n",
        "    text = 'cannot recognize license plate'\n",
        "  \n",
        "  return text"
      ],
      "metadata": {
        "id": "gSV55ovOr7bS"
      },
      "execution_count": 97,
      "outputs": []
    },
    {
      "cell_type": "code",
      "source": [
        "import os, os.path\n",
        "\n",
        "def get_name_video():  \n",
        "\n",
        "  # path joining version for other paths\n",
        "  DIR = '/content/drive/MyDrive/test_dataset/ouputs_test_videos'\n",
        "  temp = str(len([name for name in os.listdir(DIR) if os.path.isfile(os.path.join(DIR, name))]))\n",
        "\n",
        "  video_save = '/content/drive/MyDrive/test_dataset/ouputs_test_videos/' + temp\n",
        "  return video_save"
      ],
      "metadata": {
        "id": "ltrw2prjsAzZ"
      },
      "execution_count": 12,
      "outputs": []
    },
    {
      "cell_type": "markdown",
      "source": [
        "# Deployment on images\n"
      ],
      "metadata": {
        "id": "VhyVPClstFZ5"
      }
    },
    {
      "cell_type": "code",
      "source": [
        "from google.colab.patches import cv2_imshow\n",
        "\n",
        "source_image_path = '/content/drive/MyDrive/YOLOv7_train/yolov7/test_images/oto.jpg'\n",
        "img_r = cv2.imread(source_image_path)\n",
        "\n",
        "#Detect on images\n",
        "img0, pl_det = detect_image(opt_2, img_r, model_2,device_selected)\n",
        "original_image = img0\n",
        "img0, det = detect_image(opt, img0, model, device_selected)\n",
        "\n",
        "#Recognize on licence plates\n",
        "for *xyxy, conf, cls in reversed(pl_det):\n",
        "  \n",
        "  x1 = int(xyxy[0].item())\n",
        "  y1 = int(xyxy[1].item())\n",
        "  x2 = int(xyxy[2].item())\n",
        "  y2 = int(xyxy[3].item())\n",
        "\n",
        "  confidence_score = conf\n",
        "  class_index = cls\n",
        "\n",
        "  # print('bouding box is ', x1, y1, x2, y2)\n",
        "  # print('class index is ', class_index)\n",
        "\n",
        "  cropped_frame = original_image[y1:y2, x1:x2]\n",
        "  cv2_imshow(cropped_frame)\n",
        "  text = licensePlates_OCR(cropped_frame)\n",
        "  print(text)"
      ],
      "metadata": {
        "colab": {
          "base_uri": "https://localhost:8080/",
          "height": 208
        },
        "id": "kwh-UdFOvAIi",
        "outputId": "da8dad63-f8c2-4800-e4c9-40f20a6a693a"
      },
      "execution_count": 98,
      "outputs": [
        {
          "output_type": "display_data",
          "data": {
            "text/plain": [
              "<PIL.Image.Image image mode=RGB size=120x87>"
            ],
            "image/png": "[encoded data removed]"
          },
          "metadata": {}
        },
        {
          "output_type": "display_data",
          "data": {
            "text/plain": [
              "<PIL.Image.Image image mode=L size=120x87>"
            ],
            "image/png": "[encoded data removed]"
          },
          "metadata": {}
        },
        {
          "output_type": "stream",
          "name": "stdout",
          "text": [
            "cannot recognize license plate\n"
          ]
        }
      ]
    },
    {
      "cell_type": "markdown",
      "source": [
        "# Deployment on videos\n"
      ],
      "metadata": {
        "id": "MjXNaKxVvCwL"
      }
    },
    {
      "cell_type": "code",
      "source": [
        "video = cv2.VideoCapture('/content/drive/MyDrive/test_dataset/test-videos/test_3.mp4')\n",
        "\n",
        "nameOfvideo = get_name_video() + '.mp4'\n",
        "recording = False\n",
        "\n",
        "#Video information\n",
        "fps = video.get(cv2.CAP_PROP_FPS)\n",
        "w = int(video.get(cv2.CAP_PROP_FRAME_WIDTH))\n",
        "h = int(video.get(cv2.CAP_PROP_FRAME_HEIGHT))\n",
        "nframes = int(video.get(cv2.CAP_PROP_FRAME_COUNT))\n",
        "\n",
        "# Initialzing object for writing video output\n",
        "if recording is False:\n",
        "  output = cv2.VideoWriter(nameOfvideo, cv2.VideoWriter_fourcc(*'DIVX'),fps , (w,h))\n",
        "  torch.cuda.empty_cache()\n",
        "  recording = True\n",
        "\n",
        "for j in range(nframes):\n",
        "  ret, img0 = video.read()\n",
        "\n",
        "  cv2.putText(img0, str(int(fps)), (50,50), cv2.FONT_HERSHEY_SIMPLEX, 1, (0,0,255), 2)\n",
        "\n",
        "  if ret:\n",
        "    #Detect\n",
        "    img0, det_pl = detect_image(opt_2, img0, model_2, device_selected)\n",
        "    original_image = img0\n",
        "    img0, det_ve = detect_image(opt, img0, model, device_selected)\n",
        "    \n",
        "    #Recognize\n",
        "    for *xyxy, conf, cls in reversed(det_pl):\n",
        "  \n",
        "      x1 = int(xyxy[0].item())\n",
        "      y1 = int(xyxy[1].item())\n",
        "      x2 = int(xyxy[2].item())\n",
        "      y2 = int(xyxy[3].item())\n",
        "\n",
        "      confidence_score = conf\n",
        "      class_index = cls\n",
        "\n",
        "      # print('bouding box is ', x1, y1, x2, y2)\n",
        "      # print('class index is ', class_index)\n",
        "\n",
        "      cropped_frame = original_image[y1-5:y2+5, x1-5:x2+5]\n",
        "      text = licensePlates_OCR(cropped_frame)\n",
        "      \n",
        "\n",
        "    print(f\"{j+1}/{nframes} frames processed\")\n",
        "\n",
        "    if recording:\n",
        "      output.write(img0)\n",
        "  else:\n",
        "    break\n",
        "\n",
        "if recording:\n",
        "  output.release()\n",
        "  video.release()"
      ],
      "metadata": {
        "id": "An1b1hE1tEMU"
      },
      "execution_count": null,
      "outputs": []
    }
  ]
}